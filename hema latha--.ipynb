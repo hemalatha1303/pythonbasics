{
 "cells": [
  {
   "cell_type": "markdown",
   "id": "3666eb86",
   "metadata": {},
   "source": [
    "# conditions"
   ]
  },
  {
   "cell_type": "code",
   "execution_count": 1,
   "id": "97c123b8",
   "metadata": {},
   "outputs": [
    {
     "ename": "SyntaxError",
     "evalue": "invalid syntax (623311681.py, line 12)",
     "output_type": "error",
     "traceback": [
      "\u001b[1;36m  Cell \u001b[1;32mIn[1], line 12\u001b[1;36m\u001b[0m\n\u001b[1;33m    end the statement\u001b[0m\n\u001b[1;37m        ^\u001b[0m\n\u001b[1;31mSyntaxError\u001b[0m\u001b[1;31m:\u001b[0m invalid syntax\n"
     ]
    }
   ],
   "source": [
    "# CONDITIONS HAS 3 MODULES \n",
    "\n",
    "if condition:\n",
    "    statement\n",
    "elif condition1:\n",
    "    statement1\n",
    "elif condition2:\n",
    "    statement2\n",
    "elif condition3:\n",
    "    statement3\n",
    "else:\n",
    "    end the statement\n",
    "    \n"
   ]
  },
  {
   "cell_type": "code",
   "execution_count": null,
   "id": "f8c83a6a",
   "metadata": {},
   "outputs": [],
   "source": [
    "if condition:\n",
    "    statement\n",
    "elif condition1:\n",
    "    statement1\n",
    "elif condition2:\n",
    "    statement2\n",
    "elif condition3:\n",
    "    statement3\n",
    "else:\n",
    "    end the statement\n",
    "    "
   ]
  },
  {
   "cell_type": "code",
   "execution_count": 1,
   "id": "9f7aff1c",
   "metadata": {},
   "outputs": [
    {
     "ename": "SyntaxError",
     "evalue": "invalid syntax (1015791273.py, line 10)",
     "output_type": "error",
     "traceback": [
      "\u001b[1;36m  Cell \u001b[1;32mIn[1], line 10\u001b[1;36m\u001b[0m\n\u001b[1;33m    end the statement\u001b[0m\n\u001b[1;37m        ^\u001b[0m\n\u001b[1;31mSyntaxError\u001b[0m\u001b[1;31m:\u001b[0m invalid syntax\n"
     ]
    }
   ],
   "source": [
    "if condition:\n",
    "    statement\n",
    "elif condition1:\n",
    "    statement1\n",
    "elif condition2:\n",
    "    statement2\n",
    "elif condition3:\n",
    "    statement3\n",
    "else:\n",
    "    end the statement\n"
   ]
  },
  {
   "cell_type": "code",
   "execution_count": 9,
   "id": "35900974",
   "metadata": {},
   "outputs": [
    {
     "name": "stdout",
     "output_type": "stream",
     "text": [
      "30\n"
     ]
    }
   ],
   "source": [
    "a = 10\n",
    "b = 20\n",
    "c = a+b\n",
    "if a < b:\n",
    "    print(c)\n",
    "else:\n",
    "    print(b)"
   ]
  },
  {
   "cell_type": "code",
   "execution_count": 11,
   "id": "70bb5d3b",
   "metadata": {},
   "outputs": [
    {
     "name": "stdout",
     "output_type": "stream",
     "text": [
      "20\n"
     ]
    }
   ],
   "source": [
    "a=10\n",
    "b=20\n",
    "c=a+b\n",
    "if a>b:\n",
    "    print(c)\n",
    "elif a<b:\n",
    "    print(b)\n",
    "elif a!=b:\n",
    "    print(c)\n",
    "else:\n",
    "    print(\"enter the value\")\n",
    "         "
   ]
  },
  {
   "cell_type": "markdown",
   "id": "afe67c74",
   "metadata": {},
   "source": [
    "# conditions and logical operations with binary"
   ]
  },
  {
   "cell_type": "code",
   "execution_count": null,
   "id": "297606cf",
   "metadata": {},
   "outputs": [],
   "source": [
    "if conditions:\n",
    "    statement\n",
    "elif condition1:\n",
    "    statement1\n",
    "elif condition2:\n",
    "    statement2\n",
    "elif condition3:\n",
    "    statement3\n",
    "else:\n",
    "    end of the statement "
   ]
  },
  {
   "cell_type": "code",
   "execution_count": 1,
   "id": "5f541371",
   "metadata": {},
   "outputs": [
    {
     "name": "stdout",
     "output_type": "stream",
     "text": [
      "10\n"
     ]
    }
   ],
   "source": [
    "a=10\n",
    "if a==10:\n",
    "    print(a)"
   ]
  },
  {
   "cell_type": "code",
   "execution_count": 2,
   "id": "eaa228a6",
   "metadata": {},
   "outputs": [
    {
     "name": "stdout",
     "output_type": "stream",
     "text": [
      "B is grt then a\n"
     ]
    }
   ],
   "source": [
    "a=10\n",
    "b=20\n",
    "if a>b:\n",
    "    print(\"a is grt then b\")\n",
    "# here space is known as indentation     \n",
    "elif b>a:\n",
    "    print(\"B is grt then a\")\n",
    "\n",
    "          "
   ]
  },
  {
   "cell_type": "code",
   "execution_count": 3,
   "id": "b327aca2",
   "metadata": {},
   "outputs": [
    {
     "name": "stdout",
     "output_type": "stream",
     "text": [
      "1010\n"
     ]
    }
   ],
   "source": [
    "number=10\n",
    "a=f'{number:b}'\n",
    "print(a)"
   ]
  },
  {
   "cell_type": "code",
   "execution_count": 1,
   "id": "001eb518",
   "metadata": {},
   "outputs": [
    {
     "name": "stdout",
     "output_type": "stream",
     "text": [
      "     11110\n"
     ]
    }
   ],
   "source": [
    "number2=30\n",
    "b=f'{number2: 10b}'\n",
    "print(b)"
   ]
  },
  {
   "cell_type": "code",
   "execution_count": 5,
   "id": "629e7762",
   "metadata": {},
   "outputs": [
    {
     "name": "stdout",
     "output_type": "stream",
     "text": [
      " 000011110\n"
     ]
    }
   ],
   "source": [
    "number3=30\n",
    "c=f'{number2: 010b}'\n",
    "print(c)"
   ]
  },
  {
   "cell_type": "markdown",
   "id": "b49cc934",
   "metadata": {},
   "source": [
    "# and or operation"
   ]
  },
  {
   "cell_type": "code",
   "execution_count": 2,
   "id": "2c62da6f",
   "metadata": {},
   "outputs": [
    {
     "name": "stdout",
     "output_type": "stream",
     "text": [
      "10\n"
     ]
    }
   ],
   "source": [
    "a=10\n",
    "b=20\n",
    "if a==10 or a==20:\n",
    "    print(a)"
   ]
  },
  {
   "cell_type": "code",
   "execution_count": 5,
   "id": "d1dcc352",
   "metadata": {},
   "outputs": [],
   "source": [
    "if a ==10 and a ==20:\n",
    "    print(a)"
   ]
  },
  {
   "cell_type": "code",
   "execution_count": 6,
   "id": "cdfe6704",
   "metadata": {},
   "outputs": [],
   "source": [
    "if a == 20 and a ==20:\n",
    "    print(a)"
   ]
  },
  {
   "cell_type": "code",
   "execution_count": 12,
   "id": "0ae6a9bf",
   "metadata": {},
   "outputs": [
    {
     "name": "stdout",
     "output_type": "stream",
     "text": [
      "enter a value5\n",
      "Enter b value5\n",
      "Enter a operation,('+','-','*','/','//','%')+\n",
      "Here we are performing addition operation 10\n"
     ]
    }
   ],
   "source": [
    "a=int(input(\"enter a value\"))\n",
    "b=int(input(\"Enter b value\"))\n",
    "operations = input(\"Enter a operation,('+','-','*','/','//','%')\")\n",
    "\n",
    "if operations ==\"+\":\n",
    "    print(\"Here we are performing addition operation\",a+b)\n",
    "elif operations ==\"-\":\n",
    "    print(\"Here we are performing substraction operation\",a-b)\n",
    "elif operations ==\"*\":\n",
    "    print(\"Here we are performing multiplication operation\",a*b)\n",
    "elif operations ==\"/\":\n",
    "    print(\"Here we are performing division operation\",a/b)\n",
    "elif operations ==\"//\":\n",
    "    print(\"Here we are performing division oeration with out decimal point\",a//b)\n",
    "elif operations ==\"%\":\n",
    "    print(\"Here we are performing division oeration with out decimal point\",a%b)\n",
    "else:\n",
    "    print(\"please enter the valid operation\")\n",
    "   "
   ]
  },
  {
   "cell_type": "code",
   "execution_count": null,
   "id": "1af679b8",
   "metadata": {},
   "outputs": [],
   "source": []
  }
 ],
 "metadata": {
  "kernelspec": {
   "display_name": "Python 3 (ipykernel)",
   "language": "python",
   "name": "python3"
  },
  "language_info": {
   "codemirror_mode": {
    "name": "ipython",
    "version": 3
   },
   "file_extension": ".py",
   "mimetype": "text/x-python",
   "name": "python",
   "nbconvert_exporter": "python",
   "pygments_lexer": "ipython3",
   "version": "3.10.9"
  }
 },
 "nbformat": 4,
 "nbformat_minor": 5
}
