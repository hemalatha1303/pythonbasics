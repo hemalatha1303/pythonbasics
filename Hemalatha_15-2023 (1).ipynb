{
 "cells": [
  {
   "cell_type": "code",
   "execution_count": 1,
   "id": "07f82803",
   "metadata": {},
   "outputs": [],
   "source": [
    "bacon=22"
   ]
  },
  {
   "cell_type": "code",
   "execution_count": 2,
   "id": "24db8992",
   "metadata": {},
   "outputs": [
    {
     "data": {
      "text/plain": [
       "23"
      ]
     },
     "execution_count": 2,
     "metadata": {},
     "output_type": "execute_result"
    }
   ],
   "source": [
    "bacon+1"
   ]
  },
  {
   "cell_type": "code",
   "execution_count": 3,
   "id": "926b23e6",
   "metadata": {},
   "outputs": [
    {
     "data": {
      "text/plain": [
       "'spamspamspam'"
      ]
     },
     "execution_count": 3,
     "metadata": {},
     "output_type": "execute_result"
    }
   ],
   "source": [
    "'spam'+'spamspam'"
   ]
  },
  {
   "cell_type": "code",
   "execution_count": 4,
   "id": "c24bbf61",
   "metadata": {},
   "outputs": [
    {
     "data": {
      "text/plain": [
       "'spamspamspam'"
      ]
     },
     "execution_count": 4,
     "metadata": {},
     "output_type": "execute_result"
    }
   ],
   "source": [
    "'spam'*3"
   ]
  },
  {
   "cell_type": "code",
   "execution_count": 5,
   "id": "7b5d45a7",
   "metadata": {},
   "outputs": [
    {
     "data": {
      "text/plain": [
       "'I have eaten99burritos'"
      ]
     },
     "execution_count": 5,
     "metadata": {},
     "output_type": "execute_result"
    }
   ],
   "source": [
    "'I have eaten'+'99'+'burritos'"
   ]
  },
  {
   "cell_type": "code",
   "execution_count": null,
   "id": "1e5e0298",
   "metadata": {},
   "outputs": [],
   "source": [
    "* is expression"
   ]
  },
  {
   "cell_type": "code",
   "execution_count": null,
   "id": "f1005800",
   "metadata": {},
   "outputs": [],
   "source": [
    "'hello's str"
   ]
  },
  {
   "cell_type": "code",
   "execution_count": null,
   "id": "b479d40f",
   "metadata": {},
   "outputs": [],
   "source": [
    "-87.8 is int"
   ]
  },
  {
   "cell_type": "code",
   "execution_count": null,
   "id": "c780da61",
   "metadata": {},
   "outputs": [],
   "source": [
    "-,/,+, is expression"
   ]
  },
  {
   "cell_type": "code",
   "execution_count": null,
   "id": "440d81d9",
   "metadata": {},
   "outputs": [],
   "source": [
    "6 is int"
   ]
  },
  {
   "cell_type": "code",
   "execution_count": null,
   "id": "1602525a",
   "metadata": {},
   "outputs": [],
   "source": [
    "varible stores data while str is a word quoted in single or double "
   ]
  }
 ],
 "metadata": {
  "kernelspec": {
   "display_name": "Python 3 (ipykernel)",
   "language": "python",
   "name": "python3"
  },
  "language_info": {
   "codemirror_mode": {
    "name": "ipython",
    "version": 3
   },
   "file_extension": ".py",
   "mimetype": "text/x-python",
   "name": "python",
   "nbconvert_exporter": "python",
   "pygments_lexer": "ipython3",
   "version": "3.10.9"
  }
 },
 "nbformat": 4,
 "nbformat_minor": 5
}
