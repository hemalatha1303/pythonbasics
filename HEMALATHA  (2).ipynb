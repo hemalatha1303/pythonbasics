{
 "cells": [
  {
   "cell_type": "code",
   "execution_count": 1,
   "id": "0aa4b24c",
   "metadata": {},
   "outputs": [],
   "source": [
    "strings=\"hemalatha,car,holiday,bike,college\""
   ]
  },
  {
   "cell_type": "code",
   "execution_count": 2,
   "id": "57299b09",
   "metadata": {},
   "outputs": [
    {
     "data": {
      "text/plain": [
       "'hemalatha,car,holiday,bike,college'"
      ]
     },
     "execution_count": 2,
     "metadata": {},
     "output_type": "execute_result"
    }
   ],
   "source": [
    "strings"
   ]
  },
  {
   "cell_type": "code",
   "execution_count": 3,
   "id": "e4a74546",
   "metadata": {},
   "outputs": [
    {
     "name": "stdout",
     "output_type": "stream",
     "text": [
      "hemalatha,car,holiday,bike,college\n"
     ]
    }
   ],
   "source": [
    "print(strings)"
   ]
  },
  {
   "cell_type": "code",
   "execution_count": 4,
   "id": "125eff5a",
   "metadata": {},
   "outputs": [],
   "source": [
    "s=[1,2,3,4,5,6,7]"
   ]
  },
  {
   "cell_type": "code",
   "execution_count": 5,
   "id": "7c596ad0",
   "metadata": {},
   "outputs": [
    {
     "name": "stdout",
     "output_type": "stream",
     "text": [
      "[1, 2, 3, 4, 5, 6, 7]\n"
     ]
    }
   ],
   "source": [
    "print(s)"
   ]
  },
  {
   "cell_type": "code",
   "execution_count": 6,
   "id": "e1a39883",
   "metadata": {},
   "outputs": [],
   "source": [
    "s1=[\"hemalatha\",\"car\",\"bike\",\"college\"]"
   ]
  },
  {
   "cell_type": "code",
   "execution_count": 7,
   "id": "8c952951",
   "metadata": {},
   "outputs": [
    {
     "data": {
      "text/plain": [
       "['hemalatha', 'car', 'bike', 'college']"
      ]
     },
     "execution_count": 7,
     "metadata": {},
     "output_type": "execute_result"
    }
   ],
   "source": [
    "s1"
   ]
  },
  {
   "cell_type": "code",
   "execution_count": 8,
   "id": "39bca2bb",
   "metadata": {},
   "outputs": [
    {
     "data": {
      "text/plain": [
       "'hemalatha'"
      ]
     },
     "execution_count": 8,
     "metadata": {},
     "output_type": "execute_result"
    }
   ],
   "source": [
    "s1[0]"
   ]
  },
  {
   "cell_type": "code",
   "execution_count": 11,
   "id": "3abb1861",
   "metadata": {},
   "outputs": [
    {
     "data": {
      "text/plain": [
       "'car'"
      ]
     },
     "execution_count": 11,
     "metadata": {},
     "output_type": "execute_result"
    }
   ],
   "source": [
    "s1[1]"
   ]
  },
  {
   "cell_type": "code",
   "execution_count": 12,
   "id": "14bcce9f",
   "metadata": {},
   "outputs": [
    {
     "data": {
      "text/plain": [
       "'bike'"
      ]
     },
     "execution_count": 12,
     "metadata": {},
     "output_type": "execute_result"
    }
   ],
   "source": [
    "s1[2]"
   ]
  },
  {
   "cell_type": "code",
   "execution_count": 13,
   "id": "24d0fc01",
   "metadata": {},
   "outputs": [],
   "source": [
    "hemalatha=(\"i am hemalatha from hyderabad and i stay in ashoknagar\")"
   ]
  },
  {
   "cell_type": "code",
   "execution_count": 14,
   "id": "adf44733",
   "metadata": {},
   "outputs": [
    {
     "name": "stdout",
     "output_type": "stream",
     "text": [
      "i am hemalatha from hyderabad and i stay in ashoknagar\n"
     ]
    }
   ],
   "source": [
    "print(hemalatha)"
   ]
  },
  {
   "cell_type": "code",
   "execution_count": 15,
   "id": "6c4e3837",
   "metadata": {},
   "outputs": [
    {
     "data": {
      "text/plain": [
       "'i'"
      ]
     },
     "execution_count": 15,
     "metadata": {},
     "output_type": "execute_result"
    }
   ],
   "source": [
    "hemalatha[0]"
   ]
  },
  {
   "cell_type": "code",
   "execution_count": 16,
   "id": "9a3c2dea",
   "metadata": {},
   "outputs": [
    {
     "data": {
      "text/plain": [
       "' '"
      ]
     },
     "execution_count": 16,
     "metadata": {},
     "output_type": "execute_result"
    }
   ],
   "source": [
    "hemalatha[1]"
   ]
  },
  {
   "cell_type": "code",
   "execution_count": 17,
   "id": "e2a37948",
   "metadata": {},
   "outputs": [
    {
     "data": {
      "text/plain": [
       "'a'"
      ]
     },
     "execution_count": 17,
     "metadata": {},
     "output_type": "execute_result"
    }
   ],
   "source": [
    "hemalatha[2]"
   ]
  },
  {
   "cell_type": "code",
   "execution_count": 18,
   "id": "4347382e",
   "metadata": {},
   "outputs": [
    {
     "data": {
      "text/plain": [
       "'m'"
      ]
     },
     "execution_count": 18,
     "metadata": {},
     "output_type": "execute_result"
    }
   ],
   "source": [
    "hemalatha[3]"
   ]
  },
  {
   "cell_type": "code",
   "execution_count": 19,
   "id": "e7c71b8a",
   "metadata": {},
   "outputs": [
    {
     "data": {
      "text/plain": [
       "' '"
      ]
     },
     "execution_count": 19,
     "metadata": {},
     "output_type": "execute_result"
    }
   ],
   "source": [
    "hemalatha[4]"
   ]
  },
  {
   "cell_type": "code",
   "execution_count": 20,
   "id": "2b009407",
   "metadata": {},
   "outputs": [
    {
     "data": {
      "text/plain": [
       "'h'"
      ]
     },
     "execution_count": 20,
     "metadata": {},
     "output_type": "execute_result"
    }
   ],
   "source": [
    "hemalatha[5]"
   ]
  },
  {
   "cell_type": "code",
   "execution_count": 21,
   "id": "e10c7438",
   "metadata": {},
   "outputs": [
    {
     "data": {
      "text/plain": [
       "'r'"
      ]
     },
     "execution_count": 21,
     "metadata": {},
     "output_type": "execute_result"
    }
   ],
   "source": [
    "hemalatha[-1]"
   ]
  },
  {
   "cell_type": "code",
   "execution_count": 22,
   "id": "65c506a4",
   "metadata": {},
   "outputs": [
    {
     "data": {
      "text/plain": [
       "'g'"
      ]
     },
     "execution_count": 22,
     "metadata": {},
     "output_type": "execute_result"
    }
   ],
   "source": [
    "hemalatha[-3]"
   ]
  },
  {
   "cell_type": "code",
   "execution_count": 23,
   "id": "de8d7342",
   "metadata": {},
   "outputs": [
    {
     "data": {
      "text/plain": [
       "' '"
      ]
     },
     "execution_count": 23,
     "metadata": {},
     "output_type": "execute_result"
    }
   ],
   "source": [
    "hemalatha[-11]"
   ]
  },
  {
   "cell_type": "code",
   "execution_count": 24,
   "id": "7d1614ec",
   "metadata": {},
   "outputs": [
    {
     "data": {
      "text/plain": [
       "'n'"
      ]
     },
     "execution_count": 24,
     "metadata": {},
     "output_type": "execute_result"
    }
   ],
   "source": [
    "hemalatha[-12]"
   ]
  },
  {
   "cell_type": "code",
   "execution_count": 25,
   "id": "5322aabc",
   "metadata": {},
   "outputs": [
    {
     "data": {
      "text/plain": [
       "'d'"
      ]
     },
     "execution_count": 25,
     "metadata": {},
     "output_type": "execute_result"
    }
   ],
   "source": [
    "hemalatha[22]"
   ]
  },
  {
   "cell_type": "code",
   "execution_count": 26,
   "id": "c9324cc7",
   "metadata": {},
   "outputs": [
    {
     "data": {
      "text/plain": [
       "'d'"
      ]
     },
     "execution_count": 26,
     "metadata": {},
     "output_type": "execute_result"
    }
   ],
   "source": [
    "hemalatha[-22]"
   ]
  },
  {
   "cell_type": "code",
   "execution_count": 27,
   "id": "869fa9c1",
   "metadata": {},
   "outputs": [
    {
     "data": {
      "text/plain": [
       "'n'"
      ]
     },
     "execution_count": 27,
     "metadata": {},
     "output_type": "execute_result"
    }
   ],
   "source": [
    "hemalatha[-23]"
   ]
  },
  {
   "cell_type": "code",
   "execution_count": 29,
   "id": "3704ab36",
   "metadata": {},
   "outputs": [],
   "source": [
    "hemalatha=[1,2,3,4,5]"
   ]
  },
  {
   "cell_type": "code",
   "execution_count": 30,
   "id": "02f0c5de",
   "metadata": {},
   "outputs": [
    {
     "data": {
      "text/plain": [
       "[1, 2, 3, 4, 5]"
      ]
     },
     "execution_count": 30,
     "metadata": {},
     "output_type": "execute_result"
    }
   ],
   "source": [
    "hemalatha"
   ]
  },
  {
   "cell_type": "code",
   "execution_count": 31,
   "id": "bd515ad7",
   "metadata": {},
   "outputs": [],
   "source": [
    "hemalatha=\"i write code\""
   ]
  },
  {
   "cell_type": "code",
   "execution_count": 32,
   "id": "696e570f",
   "metadata": {},
   "outputs": [
    {
     "data": {
      "text/plain": [
       "'i write co'"
      ]
     },
     "execution_count": 32,
     "metadata": {},
     "output_type": "execute_result"
    }
   ],
   "source": [
    "hemalatha[0:10:1]"
   ]
  },
  {
   "cell_type": "code",
   "execution_count": 33,
   "id": "be422263",
   "metadata": {},
   "outputs": [
    {
     "data": {
      "text/plain": [
       "'iwiec'"
      ]
     },
     "execution_count": 33,
     "metadata": {},
     "output_type": "execute_result"
    }
   ],
   "source": [
    "hemalatha[0:10:2]"
   ]
  },
  {
   "cell_type": "code",
   "execution_count": 34,
   "id": "21885c62",
   "metadata": {},
   "outputs": [
    {
     "data": {
      "text/plain": [
       "'ireo'"
      ]
     },
     "execution_count": 34,
     "metadata": {},
     "output_type": "execute_result"
    }
   ],
   "source": [
    "hemalatha[0:10:3]"
   ]
  },
  {
   "cell_type": "code",
   "execution_count": null,
   "id": "37629b7e",
   "metadata": {},
   "outputs": [],
   "source": []
  }
 ],
 "metadata": {
  "kernelspec": {
   "display_name": "Python 3 (ipykernel)",
   "language": "python",
   "name": "python3"
  },
  "language_info": {
   "codemirror_mode": {
    "name": "ipython",
    "version": 3
   },
   "file_extension": ".py",
   "mimetype": "text/x-python",
   "name": "python",
   "nbconvert_exporter": "python",
   "pygments_lexer": "ipython3",
   "version": "3.10.9"
  }
 },
 "nbformat": 4,
 "nbformat_minor": 5
}
