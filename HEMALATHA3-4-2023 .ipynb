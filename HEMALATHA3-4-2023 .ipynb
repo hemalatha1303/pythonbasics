{
 "cells": [
  {
   "cell_type": "markdown",
   "id": "f7619e20",
   "metadata": {},
   "source": [
    "# boolean,conditions and list manupilation "
   ]
  },
  {
   "cell_type": "markdown",
   "id": "8daea1d7",
   "metadata": {},
   "source": [
    "# True or false are of a contition is known as boolean "
   ]
  },
  {
   "cell_type": "code",
   "execution_count": 1,
   "id": "9073f196",
   "metadata": {},
   "outputs": [],
   "source": [
    "a=10\n",
    "b=5"
   ]
  },
  {
   "cell_type": "code",
   "execution_count": 2,
   "id": "f070de6c",
   "metadata": {},
   "outputs": [
    {
     "name": "stdout",
     "output_type": "stream",
     "text": [
      "True\n"
     ]
    }
   ],
   "source": [
    "print(a>b)"
   ]
  },
  {
   "cell_type": "code",
   "execution_count": 3,
   "id": "b86548c5",
   "metadata": {},
   "outputs": [
    {
     "name": "stdout",
     "output_type": "stream",
     "text": [
      "False\n"
     ]
    }
   ],
   "source": [
    "print(a<b)"
   ]
  },
  {
   "cell_type": "code",
   "execution_count": 4,
   "id": "a55b3512",
   "metadata": {},
   "outputs": [],
   "source": [
    "car=20\n",
    "bike=40"
   ]
  },
  {
   "cell_type": "code",
   "execution_count": 5,
   "id": "08b804db",
   "metadata": {},
   "outputs": [
    {
     "name": "stdout",
     "output_type": "stream",
     "text": [
      "True\n"
     ]
    }
   ],
   "source": [
    "print(bike>car)"
   ]
  },
  {
   "cell_type": "code",
   "execution_count": 7,
   "id": "d2f7ae76",
   "metadata": {},
   "outputs": [
    {
     "name": "stdout",
     "output_type": "stream",
     "text": [
      "False\n"
     ]
    }
   ],
   "source": [
    "print(bike<car)"
   ]
  },
  {
   "cell_type": "code",
   "execution_count": 8,
   "id": "17492d7a",
   "metadata": {},
   "outputs": [],
   "source": [
    "coins=55\n",
    "notes=50"
   ]
  },
  {
   "cell_type": "code",
   "execution_count": 9,
   "id": "0ed78077",
   "metadata": {},
   "outputs": [
    {
     "name": "stdout",
     "output_type": "stream",
     "text": [
      "True\n"
     ]
    }
   ],
   "source": [
    "print(coins>notes)"
   ]
  },
  {
   "cell_type": "code",
   "execution_count": 10,
   "id": "9b1466e4",
   "metadata": {},
   "outputs": [
    {
     "name": "stdout",
     "output_type": "stream",
     "text": [
      "False\n"
     ]
    }
   ],
   "source": [
    "print(coins<notes)"
   ]
  },
  {
   "cell_type": "code",
   "execution_count": 11,
   "id": "e63d9420",
   "metadata": {},
   "outputs": [],
   "source": [
    "fruits=7\n",
    "flowers=10"
   ]
  },
  {
   "cell_type": "code",
   "execution_count": 12,
   "id": "5a771dde",
   "metadata": {},
   "outputs": [
    {
     "name": "stdout",
     "output_type": "stream",
     "text": [
      "True\n"
     ]
    }
   ],
   "source": [
    "print(fruits<flowers)"
   ]
  },
  {
   "cell_type": "code",
   "execution_count": 13,
   "id": "496a8858",
   "metadata": {},
   "outputs": [
    {
     "name": "stdout",
     "output_type": "stream",
     "text": [
      "False\n"
     ]
    }
   ],
   "source": [
    "print(fruits>flowers)"
   ]
  },
  {
   "cell_type": "code",
   "execution_count": 14,
   "id": "d23f16f3",
   "metadata": {},
   "outputs": [],
   "source": [
    "book=20"
   ]
  },
  {
   "cell_type": "code",
   "execution_count": 15,
   "id": "d1e0790d",
   "metadata": {},
   "outputs": [],
   "source": [
    "pen=40"
   ]
  },
  {
   "cell_type": "code",
   "execution_count": 16,
   "id": "1b827ea1",
   "metadata": {},
   "outputs": [
    {
     "name": "stdout",
     "output_type": "stream",
     "text": [
      "False\n"
     ]
    }
   ],
   "source": [
    "print(book>pen)"
   ]
  },
  {
   "cell_type": "markdown",
   "id": "f8382d15",
   "metadata": {},
   "source": [
    "# +,-,*,/,%"
   ]
  },
  {
   "cell_type": "code",
   "execution_count": 18,
   "id": "2291379c",
   "metadata": {},
   "outputs": [],
   "source": [
    "a=10\n",
    "b=20"
   ]
  },
  {
   "cell_type": "code",
   "execution_count": 19,
   "id": "d6b1fa55",
   "metadata": {},
   "outputs": [
    {
     "data": {
      "text/plain": [
       "30"
      ]
     },
     "execution_count": 19,
     "metadata": {},
     "output_type": "execute_result"
    }
   ],
   "source": [
    "a+b"
   ]
  },
  {
   "cell_type": "code",
   "execution_count": 20,
   "id": "dc671f9d",
   "metadata": {},
   "outputs": [
    {
     "data": {
      "text/plain": [
       "-10"
      ]
     },
     "execution_count": 20,
     "metadata": {},
     "output_type": "execute_result"
    }
   ],
   "source": [
    "a-b\n"
   ]
  },
  {
   "cell_type": "code",
   "execution_count": 21,
   "id": "0d64902b",
   "metadata": {},
   "outputs": [
    {
     "data": {
      "text/plain": [
       "200"
      ]
     },
     "execution_count": 21,
     "metadata": {},
     "output_type": "execute_result"
    }
   ],
   "source": [
    "a*b"
   ]
  },
  {
   "cell_type": "code",
   "execution_count": 22,
   "id": "c22410c5",
   "metadata": {},
   "outputs": [
    {
     "data": {
      "text/plain": [
       "0.5"
      ]
     },
     "execution_count": 22,
     "metadata": {},
     "output_type": "execute_result"
    }
   ],
   "source": [
    "a/b"
   ]
  },
  {
   "cell_type": "code",
   "execution_count": 23,
   "id": "638e1b62",
   "metadata": {},
   "outputs": [
    {
     "data": {
      "text/plain": [
       "10"
      ]
     },
     "execution_count": 23,
     "metadata": {},
     "output_type": "execute_result"
    }
   ],
   "source": [
    "a%b"
   ]
  },
  {
   "cell_type": "code",
   "execution_count": 24,
   "id": "377dea20",
   "metadata": {},
   "outputs": [],
   "source": [
    "car=20\n",
    "pen=40"
   ]
  },
  {
   "cell_type": "code",
   "execution_count": 25,
   "id": "d77c102b",
   "metadata": {},
   "outputs": [
    {
     "name": "stdout",
     "output_type": "stream",
     "text": [
      "60\n"
     ]
    }
   ],
   "source": [
    "print(car+pen)"
   ]
  },
  {
   "cell_type": "code",
   "execution_count": 26,
   "id": "356da5fe",
   "metadata": {},
   "outputs": [
    {
     "name": "stdout",
     "output_type": "stream",
     "text": [
      "Here we are adding car an pen variable\n"
     ]
    }
   ],
   "source": [
    "print(\"Here we are adding car an pen variable\")"
   ]
  },
  {
   "cell_type": "code",
   "execution_count": 27,
   "id": "98df925e",
   "metadata": {},
   "outputs": [],
   "source": [
    "car=30\n",
    "pen=40"
   ]
  },
  {
   "cell_type": "code",
   "execution_count": 28,
   "id": "d1424d63",
   "metadata": {},
   "outputs": [],
   "source": [
    "book=car+pen"
   ]
  },
  {
   "cell_type": "code",
   "execution_count": 29,
   "id": "7d0516d1",
   "metadata": {},
   "outputs": [
    {
     "name": "stdout",
     "output_type": "stream",
     "text": [
      "here we are doing concatination of car and pen: value of book is :- 70\n"
     ]
    }
   ],
   "source": [
    "print(\"here we are doing concatination of car and pen: value of book is :-\",book)"
   ]
  },
  {
   "cell_type": "code",
   "execution_count": 30,
   "id": "0c6d2e82",
   "metadata": {},
   "outputs": [],
   "source": [
    "a=40\n",
    "car=20\n",
    "value=a+car\n",
    "value2=a-car\n",
    "value3=a*car\n",
    "value4=a%car\n",
    "value5=a*100/car #this is the percentage of a "
   ]
  },
  {
   "cell_type": "code",
   "execution_count": 31,
   "id": "266fe1bc",
   "metadata": {},
   "outputs": [
    {
     "name": "stdout",
     "output_type": "stream",
     "text": [
      "60\n"
     ]
    }
   ],
   "source": [
    "print(a+car)"
   ]
  },
  {
   "cell_type": "code",
   "execution_count": 32,
   "id": "c2a9a920",
   "metadata": {},
   "outputs": [
    {
     "name": "stdout",
     "output_type": "stream",
     "text": [
      "20\n"
     ]
    }
   ],
   "source": [
    "print(a-car)"
   ]
  },
  {
   "cell_type": "code",
   "execution_count": 33,
   "id": "92e42fe7",
   "metadata": {},
   "outputs": [
    {
     "name": "stdout",
     "output_type": "stream",
     "text": [
      "800\n"
     ]
    }
   ],
   "source": [
    "print(a*car)"
   ]
  },
  {
   "cell_type": "markdown",
   "id": "70a3f59d",
   "metadata": {},
   "source": [
    "# list manupilation "
   ]
  },
  {
   "cell_type": "code",
   "execution_count": 7,
   "id": "0a1544d4",
   "metadata": {},
   "outputs": [],
   "source": [
    "t=(1,2,3,3.5,\"hemalatha\")"
   ]
  },
  {
   "cell_type": "code",
   "execution_count": 8,
   "id": "c4517544",
   "metadata": {},
   "outputs": [
    {
     "data": {
      "text/plain": [
       "tuple"
      ]
     },
     "execution_count": 8,
     "metadata": {},
     "output_type": "execute_result"
    }
   ],
   "source": [
    "type(t)"
   ]
  },
  {
   "cell_type": "code",
   "execution_count": 9,
   "id": "9794de75",
   "metadata": {},
   "outputs": [],
   "source": [
    "t=(1,2,3,3.5,\"hemalatha\")"
   ]
  },
  {
   "cell_type": "code",
   "execution_count": 10,
   "id": "3e1ea777",
   "metadata": {},
   "outputs": [
    {
     "data": {
      "text/plain": [
       "[1, 2, 3, 3.5, 'hemalatha']"
      ]
     },
     "execution_count": 10,
     "metadata": {},
     "output_type": "execute_result"
    }
   ],
   "source": [
    "list(t)"
   ]
  },
  {
   "cell_type": "code",
   "execution_count": 11,
   "id": "25b95d1f",
   "metadata": {},
   "outputs": [],
   "source": [
    "b=list(t)"
   ]
  },
  {
   "cell_type": "code",
   "execution_count": 12,
   "id": "554d5e1f",
   "metadata": {},
   "outputs": [
    {
     "data": {
      "text/plain": [
       "list"
      ]
     },
     "execution_count": 12,
     "metadata": {},
     "output_type": "execute_result"
    }
   ],
   "source": [
    "type(b)"
   ]
  },
  {
   "cell_type": "code",
   "execution_count": 16,
   "id": "6cf1bc62",
   "metadata": {},
   "outputs": [],
   "source": [
    "b={1,2,3,4,\"hemalatha\",\"poojitha\"}"
   ]
  },
  {
   "cell_type": "code",
   "execution_count": 17,
   "id": "2ff80596",
   "metadata": {},
   "outputs": [
    {
     "data": {
      "text/plain": [
       "set"
      ]
     },
     "execution_count": 17,
     "metadata": {},
     "output_type": "execute_result"
    }
   ],
   "source": [
    "type(b)"
   ]
  },
  {
   "cell_type": "code",
   "execution_count": 18,
   "id": "2cfbdcca",
   "metadata": {},
   "outputs": [
    {
     "data": {
      "text/plain": [
       "[1, 2, 3, 4, 'poojitha', 'hemalatha']"
      ]
     },
     "execution_count": 18,
     "metadata": {},
     "output_type": "execute_result"
    }
   ],
   "source": [
    "list(b)"
   ]
  },
  {
   "cell_type": "code",
   "execution_count": 19,
   "id": "f5df6c5b",
   "metadata": {},
   "outputs": [],
   "source": [
    "s1=list(b)"
   ]
  },
  {
   "cell_type": "code",
   "execution_count": 20,
   "id": "ea1bb2e8",
   "metadata": {},
   "outputs": [
    {
     "name": "stdout",
     "output_type": "stream",
     "text": [
      "[1, 2, 3, 4, 'poojitha', 'hemalatha']\n"
     ]
    }
   ],
   "source": [
    "print(s1)"
   ]
  },
  {
   "cell_type": "code",
   "execution_count": 21,
   "id": "7165a01d",
   "metadata": {},
   "outputs": [
    {
     "data": {
      "text/plain": [
       "list"
      ]
     },
     "execution_count": 21,
     "metadata": {},
     "output_type": "execute_result"
    }
   ],
   "source": [
    "type(s1)"
   ]
  },
  {
   "cell_type": "code",
   "execution_count": null,
   "id": "1d3cd26a",
   "metadata": {},
   "outputs": [],
   "source": []
  }
 ],
 "metadata": {
  "kernelspec": {
   "display_name": "Python 3 (ipykernel)",
   "language": "python",
   "name": "python3"
  },
  "language_info": {
   "codemirror_mode": {
    "name": "ipython",
    "version": 3
   },
   "file_extension": ".py",
   "mimetype": "text/x-python",
   "name": "python",
   "nbconvert_exporter": "python",
   "pygments_lexer": "ipython3",
   "version": "3.10.9"
  }
 },
 "nbformat": 4,
 "nbformat_minor": 5
}
